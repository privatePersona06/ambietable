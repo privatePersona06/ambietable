{
 "cells": [
  {
   "cell_type": "code",
   "execution_count": 1,
   "id": "87ced6d8",
   "metadata": {},
   "outputs": [],
   "source": [
    "import time\n",
    "import serial\n",
    "import numpy as np\n",
    "import pandas as pd"
   ]
  },
  {
   "cell_type": "code",
   "execution_count": null,
   "id": "c11cd420",
   "metadata": {},
   "outputs": [],
   "source": [
    "def init():\n",
    "    serial_monitor = serial.Serial('/dev/ttyUSB0', 9600, timeout=1)\n",
    "    serial_monitor.reset_input_buffer()\n",
    "    return serial_monitor\n",
    "    \n",
    "def table(data):\n",
    "    df = pd.DataFrame(data)\n",
    "    return df"
   ]
  },
  {
   "cell_type": "code",
   "execution_count": null,
   "id": "81343172",
   "metadata": {},
   "outputs": [],
   "source": [
    "if __name__ == '__main__':\n",
    "    ser = init()\n",
    "    count = 0\n",
    "    data_dict = {'Temp': np.array(),\n",
    "                'Hum': [],\n",
    "                'Time': []}\n",
    "    start = time.time()\n",
    "    while True:\n",
    "        if ser.in_waiting > 0:\n",
    "            line = ser.readline().decode('utf-8').rstrip()\n",
    "            end = time.time()\n",
    "            if count > 0:\n",
    "                data = list(map(float, line.split()))\n",
    "                data_dict['Hum'].append(data[0])\n",
    "                data_dict['Temp'].append(data[1])\n",
    "                data_dict['Time'].append(round(end - start, 2))\n",
    "                print(data_dict['Temp'], data_dict['Hum'], data_dict['Time'], '\\n', sep='\\n')\n",
    "            count += 1\n",
    "            if count == 10:\n",
    "                break\n",
    "    print(table(data_dict))"
   ]
  }
 ],
 "metadata": {
  "kernelspec": {
   "display_name": "Python 3 (ipykernel)",
   "language": "python",
   "name": "python3"
  },
  "language_info": {
   "codemirror_mode": {
    "name": "ipython",
    "version": 3
   },
   "file_extension": ".py",
   "mimetype": "text/x-python",
   "name": "python",
   "nbconvert_exporter": "python",
   "pygments_lexer": "ipython3",
   "version": "3.9.2"
  }
 },
 "nbformat": 4,
 "nbformat_minor": 5
}
